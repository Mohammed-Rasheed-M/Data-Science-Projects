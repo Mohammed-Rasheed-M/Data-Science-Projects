{
  "nbformat": 4,
  "nbformat_minor": 0,
  "metadata": {
    "colab": {
      "name": "IPL_Data_Analysis.ipynb",
      "provenance": [],
      "collapsed_sections": []
    },
    "kernelspec": {
      "name": "python3",
      "display_name": "Python 3"
    },
    "language_info": {
      "name": "python"
    }
  },
  "cells": [
    {
      "cell_type": "markdown",
      "metadata": {
        "id": "dKZg2QExadiX"
      },
      "source": [
        "**Loading Libraries**"
      ]
    },
    {
      "cell_type": "code",
      "metadata": {
        "id": "wWci0-AfaZ5e"
      },
      "source": [
        "#Importing the necessary modules\n",
        "import numpy as np  \n",
        "import pandas as pd \n",
        "import matplotlib.pyplot as plt \n",
        "import seaborn as sns"
      ],
      "execution_count": null,
      "outputs": []
    },
    {
      "cell_type": "markdown",
      "metadata": {
        "id": "z8BMW6IkvQmW"
      },
      "source": [
        "**Importing IPL Dataset**"
      ]
    },
    {
      "cell_type": "code",
      "metadata": {
        "colab": {
          "base_uri": "https://localhost:8080/",
          "height": 1000
        },
        "id": "HqyZN3QMu9Ir",
        "outputId": "1f326d98-2654-412f-9783-e63a4b599243"
      },
      "source": [
        "matches = pd.read_csv('/content/matches.csv')\n",
        "matches.head(20)"
      ],
      "execution_count": null,
      "outputs": [
        {
          "output_type": "execute_result",
          "data": {
            "text/html": [
              "<div>\n",
              "<style scoped>\n",
              "    .dataframe tbody tr th:only-of-type {\n",
              "        vertical-align: middle;\n",
              "    }\n",
              "\n",
              "    .dataframe tbody tr th {\n",
              "        vertical-align: top;\n",
              "    }\n",
              "\n",
              "    .dataframe thead th {\n",
              "        text-align: right;\n",
              "    }\n",
              "</style>\n",
              "<table border=\"1\" class=\"dataframe\">\n",
              "  <thead>\n",
              "    <tr style=\"text-align: right;\">\n",
              "      <th></th>\n",
              "      <th>id</th>\n",
              "      <th>Season</th>\n",
              "      <th>city</th>\n",
              "      <th>date</th>\n",
              "      <th>team1</th>\n",
              "      <th>team2</th>\n",
              "      <th>toss_winner</th>\n",
              "      <th>toss_decision</th>\n",
              "      <th>result</th>\n",
              "      <th>dl_applied</th>\n",
              "      <th>winner</th>\n",
              "      <th>win_by_runs</th>\n",
              "      <th>win_by_wickets</th>\n",
              "      <th>player_of_match</th>\n",
              "      <th>venue</th>\n",
              "      <th>umpire1</th>\n",
              "      <th>umpire2</th>\n",
              "      <th>umpire3</th>\n",
              "    </tr>\n",
              "  </thead>\n",
              "  <tbody>\n",
              "    <tr>\n",
              "      <th>0</th>\n",
              "      <td>1</td>\n",
              "      <td>IPL-2017</td>\n",
              "      <td>Hyderabad</td>\n",
              "      <td>05-04-2017</td>\n",
              "      <td>Sunrisers Hyderabad</td>\n",
              "      <td>Royal Challengers Bangalore</td>\n",
              "      <td>Royal Challengers Bangalore</td>\n",
              "      <td>field</td>\n",
              "      <td>normal</td>\n",
              "      <td>0</td>\n",
              "      <td>Sunrisers Hyderabad</td>\n",
              "      <td>35</td>\n",
              "      <td>0</td>\n",
              "      <td>Yuvraj Singh</td>\n",
              "      <td>Rajiv Gandhi International Stadium, Uppal</td>\n",
              "      <td>AY Dandekar</td>\n",
              "      <td>NJ Llong</td>\n",
              "      <td>NaN</td>\n",
              "    </tr>\n",
              "    <tr>\n",
              "      <th>1</th>\n",
              "      <td>2</td>\n",
              "      <td>IPL-2017</td>\n",
              "      <td>Pune</td>\n",
              "      <td>06-04-2017</td>\n",
              "      <td>Mumbai Indians</td>\n",
              "      <td>Rising Pune Supergiant</td>\n",
              "      <td>Rising Pune Supergiant</td>\n",
              "      <td>field</td>\n",
              "      <td>normal</td>\n",
              "      <td>0</td>\n",
              "      <td>Rising Pune Supergiant</td>\n",
              "      <td>0</td>\n",
              "      <td>7</td>\n",
              "      <td>SPD Smith</td>\n",
              "      <td>Maharashtra Cricket Association Stadium</td>\n",
              "      <td>A Nand Kishore</td>\n",
              "      <td>S Ravi</td>\n",
              "      <td>NaN</td>\n",
              "    </tr>\n",
              "    <tr>\n",
              "      <th>2</th>\n",
              "      <td>3</td>\n",
              "      <td>IPL-2017</td>\n",
              "      <td>Rajkot</td>\n",
              "      <td>07-04-2017</td>\n",
              "      <td>Gujarat Lions</td>\n",
              "      <td>Kolkata Knight Riders</td>\n",
              "      <td>Kolkata Knight Riders</td>\n",
              "      <td>field</td>\n",
              "      <td>normal</td>\n",
              "      <td>0</td>\n",
              "      <td>Kolkata Knight Riders</td>\n",
              "      <td>0</td>\n",
              "      <td>10</td>\n",
              "      <td>CA Lynn</td>\n",
              "      <td>Saurashtra Cricket Association Stadium</td>\n",
              "      <td>Nitin Menon</td>\n",
              "      <td>CK Nandan</td>\n",
              "      <td>NaN</td>\n",
              "    </tr>\n",
              "    <tr>\n",
              "      <th>3</th>\n",
              "      <td>4</td>\n",
              "      <td>IPL-2017</td>\n",
              "      <td>Indore</td>\n",
              "      <td>08-04-2017</td>\n",
              "      <td>Rising Pune Supergiant</td>\n",
              "      <td>Kings XI Punjab</td>\n",
              "      <td>Kings XI Punjab</td>\n",
              "      <td>field</td>\n",
              "      <td>normal</td>\n",
              "      <td>0</td>\n",
              "      <td>Kings XI Punjab</td>\n",
              "      <td>0</td>\n",
              "      <td>6</td>\n",
              "      <td>GJ Maxwell</td>\n",
              "      <td>Holkar Cricket Stadium</td>\n",
              "      <td>AK Chaudhary</td>\n",
              "      <td>C Shamshuddin</td>\n",
              "      <td>NaN</td>\n",
              "    </tr>\n",
              "    <tr>\n",
              "      <th>4</th>\n",
              "      <td>5</td>\n",
              "      <td>IPL-2017</td>\n",
              "      <td>Bangalore</td>\n",
              "      <td>08-04-2017</td>\n",
              "      <td>Royal Challengers Bangalore</td>\n",
              "      <td>Delhi Daredevils</td>\n",
              "      <td>Royal Challengers Bangalore</td>\n",
              "      <td>bat</td>\n",
              "      <td>normal</td>\n",
              "      <td>0</td>\n",
              "      <td>Royal Challengers Bangalore</td>\n",
              "      <td>15</td>\n",
              "      <td>0</td>\n",
              "      <td>KM Jadhav</td>\n",
              "      <td>M Chinnaswamy Stadium</td>\n",
              "      <td>NaN</td>\n",
              "      <td>NaN</td>\n",
              "      <td>NaN</td>\n",
              "    </tr>\n",
              "    <tr>\n",
              "      <th>5</th>\n",
              "      <td>6</td>\n",
              "      <td>IPL-2017</td>\n",
              "      <td>Hyderabad</td>\n",
              "      <td>09-04-2017</td>\n",
              "      <td>Gujarat Lions</td>\n",
              "      <td>Sunrisers Hyderabad</td>\n",
              "      <td>Sunrisers Hyderabad</td>\n",
              "      <td>field</td>\n",
              "      <td>normal</td>\n",
              "      <td>0</td>\n",
              "      <td>Sunrisers Hyderabad</td>\n",
              "      <td>0</td>\n",
              "      <td>9</td>\n",
              "      <td>Rashid Khan</td>\n",
              "      <td>Rajiv Gandhi International Stadium, Uppal</td>\n",
              "      <td>A Deshmukh</td>\n",
              "      <td>NJ Llong</td>\n",
              "      <td>NaN</td>\n",
              "    </tr>\n",
              "    <tr>\n",
              "      <th>6</th>\n",
              "      <td>7</td>\n",
              "      <td>IPL-2017</td>\n",
              "      <td>Mumbai</td>\n",
              "      <td>09-04-2017</td>\n",
              "      <td>Kolkata Knight Riders</td>\n",
              "      <td>Mumbai Indians</td>\n",
              "      <td>Mumbai Indians</td>\n",
              "      <td>field</td>\n",
              "      <td>normal</td>\n",
              "      <td>0</td>\n",
              "      <td>Mumbai Indians</td>\n",
              "      <td>0</td>\n",
              "      <td>4</td>\n",
              "      <td>N Rana</td>\n",
              "      <td>Wankhede Stadium</td>\n",
              "      <td>Nitin Menon</td>\n",
              "      <td>CK Nandan</td>\n",
              "      <td>NaN</td>\n",
              "    </tr>\n",
              "    <tr>\n",
              "      <th>7</th>\n",
              "      <td>8</td>\n",
              "      <td>IPL-2017</td>\n",
              "      <td>Indore</td>\n",
              "      <td>10-04-2017</td>\n",
              "      <td>Royal Challengers Bangalore</td>\n",
              "      <td>Kings XI Punjab</td>\n",
              "      <td>Royal Challengers Bangalore</td>\n",
              "      <td>bat</td>\n",
              "      <td>normal</td>\n",
              "      <td>0</td>\n",
              "      <td>Kings XI Punjab</td>\n",
              "      <td>0</td>\n",
              "      <td>8</td>\n",
              "      <td>AR Patel</td>\n",
              "      <td>Holkar Cricket Stadium</td>\n",
              "      <td>AK Chaudhary</td>\n",
              "      <td>C Shamshuddin</td>\n",
              "      <td>NaN</td>\n",
              "    </tr>\n",
              "    <tr>\n",
              "      <th>8</th>\n",
              "      <td>9</td>\n",
              "      <td>IPL-2017</td>\n",
              "      <td>Pune</td>\n",
              "      <td>11-04-2017</td>\n",
              "      <td>Delhi Daredevils</td>\n",
              "      <td>Rising Pune Supergiant</td>\n",
              "      <td>Rising Pune Supergiant</td>\n",
              "      <td>field</td>\n",
              "      <td>normal</td>\n",
              "      <td>0</td>\n",
              "      <td>Delhi Daredevils</td>\n",
              "      <td>97</td>\n",
              "      <td>0</td>\n",
              "      <td>SV Samson</td>\n",
              "      <td>Maharashtra Cricket Association Stadium</td>\n",
              "      <td>AY Dandekar</td>\n",
              "      <td>S Ravi</td>\n",
              "      <td>NaN</td>\n",
              "    </tr>\n",
              "    <tr>\n",
              "      <th>9</th>\n",
              "      <td>10</td>\n",
              "      <td>IPL-2017</td>\n",
              "      <td>Mumbai</td>\n",
              "      <td>12-04-2017</td>\n",
              "      <td>Sunrisers Hyderabad</td>\n",
              "      <td>Mumbai Indians</td>\n",
              "      <td>Mumbai Indians</td>\n",
              "      <td>field</td>\n",
              "      <td>normal</td>\n",
              "      <td>0</td>\n",
              "      <td>Mumbai Indians</td>\n",
              "      <td>0</td>\n",
              "      <td>4</td>\n",
              "      <td>JJ Bumrah</td>\n",
              "      <td>Wankhede Stadium</td>\n",
              "      <td>Nitin Menon</td>\n",
              "      <td>CK Nandan</td>\n",
              "      <td>NaN</td>\n",
              "    </tr>\n",
              "    <tr>\n",
              "      <th>10</th>\n",
              "      <td>11</td>\n",
              "      <td>IPL-2017</td>\n",
              "      <td>Kolkata</td>\n",
              "      <td>13-04-2017</td>\n",
              "      <td>Kings XI Punjab</td>\n",
              "      <td>Kolkata Knight Riders</td>\n",
              "      <td>Kolkata Knight Riders</td>\n",
              "      <td>field</td>\n",
              "      <td>normal</td>\n",
              "      <td>0</td>\n",
              "      <td>Kolkata Knight Riders</td>\n",
              "      <td>0</td>\n",
              "      <td>8</td>\n",
              "      <td>SP Narine</td>\n",
              "      <td>Eden Gardens</td>\n",
              "      <td>A Deshmukh</td>\n",
              "      <td>NJ Llong</td>\n",
              "      <td>NaN</td>\n",
              "    </tr>\n",
              "    <tr>\n",
              "      <th>11</th>\n",
              "      <td>12</td>\n",
              "      <td>IPL-2017</td>\n",
              "      <td>Bangalore</td>\n",
              "      <td>14-04-2017</td>\n",
              "      <td>Royal Challengers Bangalore</td>\n",
              "      <td>Mumbai Indians</td>\n",
              "      <td>Mumbai Indians</td>\n",
              "      <td>field</td>\n",
              "      <td>normal</td>\n",
              "      <td>0</td>\n",
              "      <td>Mumbai Indians</td>\n",
              "      <td>0</td>\n",
              "      <td>4</td>\n",
              "      <td>KA Pollard</td>\n",
              "      <td>M Chinnaswamy Stadium</td>\n",
              "      <td>KN Ananthapadmanabhan</td>\n",
              "      <td>AK Chaudhary</td>\n",
              "      <td>NaN</td>\n",
              "    </tr>\n",
              "    <tr>\n",
              "      <th>12</th>\n",
              "      <td>13</td>\n",
              "      <td>IPL-2017</td>\n",
              "      <td>Rajkot</td>\n",
              "      <td>14-04-2017</td>\n",
              "      <td>Rising Pune Supergiant</td>\n",
              "      <td>Gujarat Lions</td>\n",
              "      <td>Gujarat Lions</td>\n",
              "      <td>field</td>\n",
              "      <td>normal</td>\n",
              "      <td>0</td>\n",
              "      <td>Gujarat Lions</td>\n",
              "      <td>0</td>\n",
              "      <td>7</td>\n",
              "      <td>AJ Tye</td>\n",
              "      <td>Saurashtra Cricket Association Stadium</td>\n",
              "      <td>A Nand Kishore</td>\n",
              "      <td>S Ravi</td>\n",
              "      <td>NaN</td>\n",
              "    </tr>\n",
              "    <tr>\n",
              "      <th>13</th>\n",
              "      <td>14</td>\n",
              "      <td>IPL-2017</td>\n",
              "      <td>Kolkata</td>\n",
              "      <td>15-04-2017</td>\n",
              "      <td>Kolkata Knight Riders</td>\n",
              "      <td>Sunrisers Hyderabad</td>\n",
              "      <td>Sunrisers Hyderabad</td>\n",
              "      <td>field</td>\n",
              "      <td>normal</td>\n",
              "      <td>0</td>\n",
              "      <td>Kolkata Knight Riders</td>\n",
              "      <td>17</td>\n",
              "      <td>0</td>\n",
              "      <td>RV Uthappa</td>\n",
              "      <td>Eden Gardens</td>\n",
              "      <td>AY Dandekar</td>\n",
              "      <td>NJ Llong</td>\n",
              "      <td>NaN</td>\n",
              "    </tr>\n",
              "    <tr>\n",
              "      <th>14</th>\n",
              "      <td>15</td>\n",
              "      <td>IPL-2017</td>\n",
              "      <td>Delhi</td>\n",
              "      <td>15-04-2017</td>\n",
              "      <td>Delhi Daredevils</td>\n",
              "      <td>Kings XI Punjab</td>\n",
              "      <td>Delhi Daredevils</td>\n",
              "      <td>bat</td>\n",
              "      <td>normal</td>\n",
              "      <td>0</td>\n",
              "      <td>Delhi Daredevils</td>\n",
              "      <td>51</td>\n",
              "      <td>0</td>\n",
              "      <td>CJ Anderson</td>\n",
              "      <td>Feroz Shah Kotla</td>\n",
              "      <td>YC Barde</td>\n",
              "      <td>Nitin Menon</td>\n",
              "      <td>NaN</td>\n",
              "    </tr>\n",
              "    <tr>\n",
              "      <th>15</th>\n",
              "      <td>16</td>\n",
              "      <td>IPL-2017</td>\n",
              "      <td>Mumbai</td>\n",
              "      <td>16-04-2017</td>\n",
              "      <td>Gujarat Lions</td>\n",
              "      <td>Mumbai Indians</td>\n",
              "      <td>Mumbai Indians</td>\n",
              "      <td>field</td>\n",
              "      <td>normal</td>\n",
              "      <td>0</td>\n",
              "      <td>Mumbai Indians</td>\n",
              "      <td>0</td>\n",
              "      <td>6</td>\n",
              "      <td>N Rana</td>\n",
              "      <td>Wankhede Stadium</td>\n",
              "      <td>A Nand Kishore</td>\n",
              "      <td>S Ravi</td>\n",
              "      <td>NaN</td>\n",
              "    </tr>\n",
              "    <tr>\n",
              "      <th>16</th>\n",
              "      <td>17</td>\n",
              "      <td>IPL-2017</td>\n",
              "      <td>Bangalore</td>\n",
              "      <td>16-04-2017</td>\n",
              "      <td>Rising Pune Supergiant</td>\n",
              "      <td>Royal Challengers Bangalore</td>\n",
              "      <td>Royal Challengers Bangalore</td>\n",
              "      <td>field</td>\n",
              "      <td>normal</td>\n",
              "      <td>0</td>\n",
              "      <td>Rising Pune Supergiant</td>\n",
              "      <td>27</td>\n",
              "      <td>0</td>\n",
              "      <td>BA Stokes</td>\n",
              "      <td>M Chinnaswamy Stadium</td>\n",
              "      <td>KN Ananthapadmanabhan</td>\n",
              "      <td>C Shamshuddin</td>\n",
              "      <td>NaN</td>\n",
              "    </tr>\n",
              "    <tr>\n",
              "      <th>17</th>\n",
              "      <td>18</td>\n",
              "      <td>IPL-2017</td>\n",
              "      <td>Delhi</td>\n",
              "      <td>17-04-2017</td>\n",
              "      <td>Delhi Daredevils</td>\n",
              "      <td>Kolkata Knight Riders</td>\n",
              "      <td>Delhi Daredevils</td>\n",
              "      <td>bat</td>\n",
              "      <td>normal</td>\n",
              "      <td>0</td>\n",
              "      <td>Kolkata Knight Riders</td>\n",
              "      <td>0</td>\n",
              "      <td>4</td>\n",
              "      <td>NM Coulter-Nile</td>\n",
              "      <td>Feroz Shah Kotla</td>\n",
              "      <td>Nitin Menon</td>\n",
              "      <td>CK Nandan</td>\n",
              "      <td>NaN</td>\n",
              "    </tr>\n",
              "    <tr>\n",
              "      <th>18</th>\n",
              "      <td>19</td>\n",
              "      <td>IPL-2017</td>\n",
              "      <td>Hyderabad</td>\n",
              "      <td>17-04-2017</td>\n",
              "      <td>Sunrisers Hyderabad</td>\n",
              "      <td>Kings XI Punjab</td>\n",
              "      <td>Kings XI Punjab</td>\n",
              "      <td>field</td>\n",
              "      <td>normal</td>\n",
              "      <td>0</td>\n",
              "      <td>Sunrisers Hyderabad</td>\n",
              "      <td>5</td>\n",
              "      <td>0</td>\n",
              "      <td>B Kumar</td>\n",
              "      <td>Rajiv Gandhi International Stadium, Uppal</td>\n",
              "      <td>AY Dandekar</td>\n",
              "      <td>A Deshmukh</td>\n",
              "      <td>NaN</td>\n",
              "    </tr>\n",
              "    <tr>\n",
              "      <th>19</th>\n",
              "      <td>20</td>\n",
              "      <td>IPL-2017</td>\n",
              "      <td>Rajkot</td>\n",
              "      <td>18-04-2017</td>\n",
              "      <td>Royal Challengers Bangalore</td>\n",
              "      <td>Gujarat Lions</td>\n",
              "      <td>Gujarat Lions</td>\n",
              "      <td>field</td>\n",
              "      <td>normal</td>\n",
              "      <td>0</td>\n",
              "      <td>Royal Challengers Bangalore</td>\n",
              "      <td>21</td>\n",
              "      <td>0</td>\n",
              "      <td>CH Gayle</td>\n",
              "      <td>Saurashtra Cricket Association Stadium</td>\n",
              "      <td>S Ravi</td>\n",
              "      <td>VK Sharma</td>\n",
              "      <td>NaN</td>\n",
              "    </tr>\n",
              "  </tbody>\n",
              "</table>\n",
              "</div>"
            ],
            "text/plain": [
              "    id    Season       city  ...                umpire1        umpire2 umpire3\n",
              "0    1  IPL-2017  Hyderabad  ...            AY Dandekar       NJ Llong     NaN\n",
              "1    2  IPL-2017       Pune  ...         A Nand Kishore         S Ravi     NaN\n",
              "2    3  IPL-2017     Rajkot  ...            Nitin Menon      CK Nandan     NaN\n",
              "3    4  IPL-2017     Indore  ...           AK Chaudhary  C Shamshuddin     NaN\n",
              "4    5  IPL-2017  Bangalore  ...                    NaN            NaN     NaN\n",
              "5    6  IPL-2017  Hyderabad  ...             A Deshmukh       NJ Llong     NaN\n",
              "6    7  IPL-2017     Mumbai  ...            Nitin Menon      CK Nandan     NaN\n",
              "7    8  IPL-2017     Indore  ...           AK Chaudhary  C Shamshuddin     NaN\n",
              "8    9  IPL-2017       Pune  ...            AY Dandekar         S Ravi     NaN\n",
              "9   10  IPL-2017     Mumbai  ...            Nitin Menon      CK Nandan     NaN\n",
              "10  11  IPL-2017    Kolkata  ...             A Deshmukh       NJ Llong     NaN\n",
              "11  12  IPL-2017  Bangalore  ...  KN Ananthapadmanabhan   AK Chaudhary     NaN\n",
              "12  13  IPL-2017     Rajkot  ...         A Nand Kishore         S Ravi     NaN\n",
              "13  14  IPL-2017    Kolkata  ...            AY Dandekar       NJ Llong     NaN\n",
              "14  15  IPL-2017      Delhi  ...               YC Barde    Nitin Menon     NaN\n",
              "15  16  IPL-2017     Mumbai  ...         A Nand Kishore         S Ravi     NaN\n",
              "16  17  IPL-2017  Bangalore  ...  KN Ananthapadmanabhan  C Shamshuddin     NaN\n",
              "17  18  IPL-2017      Delhi  ...            Nitin Menon      CK Nandan     NaN\n",
              "18  19  IPL-2017  Hyderabad  ...            AY Dandekar     A Deshmukh     NaN\n",
              "19  20  IPL-2017     Rajkot  ...                 S Ravi      VK Sharma     NaN\n",
              "\n",
              "[20 rows x 18 columns]"
            ]
          },
          "metadata": {
            "tags": []
          },
          "execution_count": 126
        }
      ]
    },
    {
      "cell_type": "markdown",
      "metadata": {
        "id": "UTieYEO9wpJC"
      },
      "source": [
        "How big the data set :"
      ]
    },
    {
      "cell_type": "code",
      "metadata": {
        "colab": {
          "base_uri": "https://localhost:8080/"
        },
        "id": "z7KXUdUSwuG7",
        "outputId": "76314151-93d3-45dc-e248-b202f938bfd3"
      },
      "source": [
        "matches.shape"
      ],
      "execution_count": null,
      "outputs": [
        {
          "output_type": "execute_result",
          "data": {
            "text/plain": [
              "(756, 18)"
            ]
          },
          "metadata": {
            "tags": []
          },
          "execution_count": 127
        }
      ]
    },
    {
      "cell_type": "code",
      "metadata": {
        "colab": {
          "base_uri": "https://localhost:8080/"
        },
        "id": "KMtN6hYjzE4a",
        "outputId": "08b9da1e-ee25-44bf-ed68-3aad68dbef69"
      },
      "source": [
        "matches.info"
      ],
      "execution_count": null,
      "outputs": [
        {
          "output_type": "execute_result",
          "data": {
            "text/plain": [
              "<bound method DataFrame.info of         id    Season  ...         umpire2                  umpire3\n",
              "0        1  IPL-2017  ...        NJ Llong                      NaN\n",
              "1        2  IPL-2017  ...          S Ravi                      NaN\n",
              "2        3  IPL-2017  ...       CK Nandan                      NaN\n",
              "3        4  IPL-2017  ...   C Shamshuddin                      NaN\n",
              "4        5  IPL-2017  ...             NaN                      NaN\n",
              "..     ...       ...  ...             ...                      ...\n",
              "751  11347  IPL-2019  ...        O Nandan                   S Ravi\n",
              "752  11412  IPL-2019  ...     Nitin Menon                Ian Gould\n",
              "753  11413  IPL-2019  ...             NaN                      NaN\n",
              "754  11414  IPL-2019  ...  Bruce Oxenford  Chettithody Shamshuddin\n",
              "755  11415  IPL-2019  ...       Ian Gould              Nigel Llong\n",
              "\n",
              "[756 rows x 18 columns]>"
            ]
          },
          "metadata": {
            "tags": []
          },
          "execution_count": 128
        }
      ]
    },
    {
      "cell_type": "code",
      "metadata": {
        "colab": {
          "base_uri": "https://localhost:8080/"
        },
        "id": "4que_fJdzPND",
        "outputId": "352cc5cc-c769-46a9-f01f-086e948eca41"
      },
      "source": [
        "matches.columns"
      ],
      "execution_count": null,
      "outputs": [
        {
          "output_type": "execute_result",
          "data": {
            "text/plain": [
              "Index(['id', 'Season', 'city', 'date', 'team1', 'team2', 'toss_winner',\n",
              "       'toss_decision', 'result', 'dl_applied', 'winner', 'win_by_runs',\n",
              "       'win_by_wickets', 'player_of_match', 'venue', 'umpire1', 'umpire2',\n",
              "       'umpire3'],\n",
              "      dtype='object')"
            ]
          },
          "metadata": {
            "tags": []
          },
          "execution_count": 129
        }
      ]
    },
    {
      "cell_type": "code",
      "metadata": {
        "colab": {
          "base_uri": "https://localhost:8080/"
        },
        "id": "8A610h6azlzr",
        "outputId": "657588c6-7f27-4b29-df05-b68d4b01c04d"
      },
      "source": [
        "matches.info()"
      ],
      "execution_count": null,
      "outputs": [
        {
          "output_type": "stream",
          "text": [
            "<class 'pandas.core.frame.DataFrame'>\n",
            "RangeIndex: 756 entries, 0 to 755\n",
            "Data columns (total 18 columns):\n",
            " #   Column           Non-Null Count  Dtype \n",
            "---  ------           --------------  ----- \n",
            " 0   id               756 non-null    int64 \n",
            " 1   Season           756 non-null    object\n",
            " 2   city             749 non-null    object\n",
            " 3   date             756 non-null    object\n",
            " 4   team1            756 non-null    object\n",
            " 5   team2            756 non-null    object\n",
            " 6   toss_winner      756 non-null    object\n",
            " 7   toss_decision    756 non-null    object\n",
            " 8   result           756 non-null    object\n",
            " 9   dl_applied       756 non-null    int64 \n",
            " 10  winner           752 non-null    object\n",
            " 11  win_by_runs      756 non-null    int64 \n",
            " 12  win_by_wickets   756 non-null    int64 \n",
            " 13  player_of_match  752 non-null    object\n",
            " 14  venue            756 non-null    object\n",
            " 15  umpire1          754 non-null    object\n",
            " 16  umpire2          754 non-null    object\n",
            " 17  umpire3          119 non-null    object\n",
            "dtypes: int64(4), object(14)\n",
            "memory usage: 106.4+ KB\n"
          ],
          "name": "stdout"
        }
      ]
    },
    {
      "cell_type": "markdown",
      "metadata": {
        "id": "puegUT2zz1zt"
      },
      "source": [
        "Finding NaN values :"
      ]
    },
    {
      "cell_type": "code",
      "metadata": {
        "colab": {
          "base_uri": "https://localhost:8080/"
        },
        "id": "9onfopp6zoHe",
        "outputId": "bb452c24-fe21-4a58-b3e5-eb718ab71dcf"
      },
      "source": [
        "matches.isna().any()"
      ],
      "execution_count": null,
      "outputs": [
        {
          "output_type": "execute_result",
          "data": {
            "text/plain": [
              "id                 False\n",
              "Season             False\n",
              "city                True\n",
              "date               False\n",
              "team1              False\n",
              "team2              False\n",
              "toss_winner        False\n",
              "toss_decision      False\n",
              "result             False\n",
              "dl_applied         False\n",
              "winner              True\n",
              "win_by_runs        False\n",
              "win_by_wickets     False\n",
              "player_of_match     True\n",
              "venue              False\n",
              "umpire1             True\n",
              "umpire2             True\n",
              "umpire3             True\n",
              "dtype: bool"
            ]
          },
          "metadata": {
            "tags": []
          },
          "execution_count": 131
        }
      ]
    },
    {
      "cell_type": "markdown",
      "metadata": {
        "id": "1bc0TtNL0LGi"
      },
      "source": [
        "Descrpition of the data:"
      ]
    },
    {
      "cell_type": "code",
      "metadata": {
        "colab": {
          "base_uri": "https://localhost:8080/",
          "height": 295
        },
        "id": "3PmfQxDp0OQb",
        "outputId": "6e998d0c-1832-4883-8418-a723c626e9a6"
      },
      "source": [
        "matches.describe()"
      ],
      "execution_count": null,
      "outputs": [
        {
          "output_type": "execute_result",
          "data": {
            "text/html": [
              "<div>\n",
              "<style scoped>\n",
              "    .dataframe tbody tr th:only-of-type {\n",
              "        vertical-align: middle;\n",
              "    }\n",
              "\n",
              "    .dataframe tbody tr th {\n",
              "        vertical-align: top;\n",
              "    }\n",
              "\n",
              "    .dataframe thead th {\n",
              "        text-align: right;\n",
              "    }\n",
              "</style>\n",
              "<table border=\"1\" class=\"dataframe\">\n",
              "  <thead>\n",
              "    <tr style=\"text-align: right;\">\n",
              "      <th></th>\n",
              "      <th>id</th>\n",
              "      <th>dl_applied</th>\n",
              "      <th>win_by_runs</th>\n",
              "      <th>win_by_wickets</th>\n",
              "    </tr>\n",
              "  </thead>\n",
              "  <tbody>\n",
              "    <tr>\n",
              "      <th>count</th>\n",
              "      <td>756.000000</td>\n",
              "      <td>756.000000</td>\n",
              "      <td>756.000000</td>\n",
              "      <td>756.000000</td>\n",
              "    </tr>\n",
              "    <tr>\n",
              "      <th>mean</th>\n",
              "      <td>1792.178571</td>\n",
              "      <td>0.025132</td>\n",
              "      <td>13.283069</td>\n",
              "      <td>3.350529</td>\n",
              "    </tr>\n",
              "    <tr>\n",
              "      <th>std</th>\n",
              "      <td>3464.478148</td>\n",
              "      <td>0.156630</td>\n",
              "      <td>23.471144</td>\n",
              "      <td>3.387963</td>\n",
              "    </tr>\n",
              "    <tr>\n",
              "      <th>min</th>\n",
              "      <td>1.000000</td>\n",
              "      <td>0.000000</td>\n",
              "      <td>0.000000</td>\n",
              "      <td>0.000000</td>\n",
              "    </tr>\n",
              "    <tr>\n",
              "      <th>25%</th>\n",
              "      <td>189.750000</td>\n",
              "      <td>0.000000</td>\n",
              "      <td>0.000000</td>\n",
              "      <td>0.000000</td>\n",
              "    </tr>\n",
              "    <tr>\n",
              "      <th>50%</th>\n",
              "      <td>378.500000</td>\n",
              "      <td>0.000000</td>\n",
              "      <td>0.000000</td>\n",
              "      <td>4.000000</td>\n",
              "    </tr>\n",
              "    <tr>\n",
              "      <th>75%</th>\n",
              "      <td>567.250000</td>\n",
              "      <td>0.000000</td>\n",
              "      <td>19.000000</td>\n",
              "      <td>6.000000</td>\n",
              "    </tr>\n",
              "    <tr>\n",
              "      <th>max</th>\n",
              "      <td>11415.000000</td>\n",
              "      <td>1.000000</td>\n",
              "      <td>146.000000</td>\n",
              "      <td>10.000000</td>\n",
              "    </tr>\n",
              "  </tbody>\n",
              "</table>\n",
              "</div>"
            ],
            "text/plain": [
              "                 id  dl_applied  win_by_runs  win_by_wickets\n",
              "count    756.000000  756.000000   756.000000      756.000000\n",
              "mean    1792.178571    0.025132    13.283069        3.350529\n",
              "std     3464.478148    0.156630    23.471144        3.387963\n",
              "min        1.000000    0.000000     0.000000        0.000000\n",
              "25%      189.750000    0.000000     0.000000        0.000000\n",
              "50%      378.500000    0.000000     0.000000        4.000000\n",
              "75%      567.250000    0.000000    19.000000        6.000000\n",
              "max    11415.000000    1.000000   146.000000       10.000000"
            ]
          },
          "metadata": {
            "tags": []
          },
          "execution_count": 132
        }
      ]
    },
    {
      "cell_type": "code",
      "metadata": {
        "colab": {
          "base_uri": "https://localhost:8080/"
        },
        "id": "7pJIBRh00dOC",
        "outputId": "ac2610e0-4ee7-4f66-ff5f-24390b5c58bd"
      },
      "source": [
        "matches.isnull().sum()"
      ],
      "execution_count": null,
      "outputs": [
        {
          "output_type": "execute_result",
          "data": {
            "text/plain": [
              "id                   0\n",
              "Season               0\n",
              "city                 7\n",
              "date                 0\n",
              "team1                0\n",
              "team2                0\n",
              "toss_winner          0\n",
              "toss_decision        0\n",
              "result               0\n",
              "dl_applied           0\n",
              "winner               4\n",
              "win_by_runs          0\n",
              "win_by_wickets       0\n",
              "player_of_match      4\n",
              "venue                0\n",
              "umpire1              2\n",
              "umpire2              2\n",
              "umpire3            637\n",
              "dtype: int64"
            ]
          },
          "metadata": {
            "tags": []
          },
          "execution_count": 133
        }
      ]
    },
    {
      "cell_type": "markdown",
      "metadata": {
        "id": "Z1UtpzdB1FUS"
      },
      "source": [
        "**Analysing the data set**"
      ]
    },
    {
      "cell_type": "markdown",
      "metadata": {
        "id": "6no4wZF81T85"
      },
      "source": [
        "How many matches played:"
      ]
    },
    {
      "cell_type": "code",
      "metadata": {
        "colab": {
          "base_uri": "https://localhost:8080/"
        },
        "id": "n4jwmmip1X-K",
        "outputId": "116c81ae-0090-4ddb-f1b6-1ea8f0440fca"
      },
      "source": [
        "print(\"Total matches played : \",matches.shape[0])"
      ],
      "execution_count": null,
      "outputs": [
        {
          "output_type": "stream",
          "text": [
            "Total matches played :  756\n"
          ],
          "name": "stdout"
        }
      ]
    },
    {
      "cell_type": "markdown",
      "metadata": {
        "id": "oitJCArz2FXS"
      },
      "source": [
        "IPL seasons"
      ]
    },
    {
      "cell_type": "code",
      "metadata": {
        "colab": {
          "base_uri": "https://localhost:8080/"
        },
        "id": "2JWKoAPt2GfT",
        "outputId": "0d5aebe0-4a38-4ad0-dda2-a5f6cea143d8"
      },
      "source": [
        "matches['Season'].unique()\n",
        "print(\"Total Seasons : \",len(matches['Season'].unique()))\n",
        "seasons = matches['Season'].unique()\n",
        "print(\" Ipl Seasons : \",seasons)"
      ],
      "execution_count": null,
      "outputs": [
        {
          "output_type": "stream",
          "text": [
            "Total Seasons :  12\n",
            " Ipl Seasons :  ['IPL-2017' 'IPL-2008' 'IPL-2009' 'IPL-2010' 'IPL-2011' 'IPL-2012'\n",
            " 'IPL-2013' 'IPL-2014' 'IPL-2015' 'IPL-2016' 'IPL-2018' 'IPL-2019']\n"
          ],
          "name": "stdout"
        }
      ]
    },
    {
      "cell_type": "markdown",
      "metadata": {
        "id": "esgEuDA5Ae5S"
      },
      "source": [
        "Seasons and total matches played each season:"
      ]
    },
    {
      "cell_type": "code",
      "metadata": {
        "colab": {
          "base_uri": "https://localhost:8080/",
          "height": 418
        },
        "id": "W-voGJdCAjc8",
        "outputId": "13819fa1-db9d-435c-d645-04f249fc5347"
      },
      "source": [
        "season_matches = matches.groupby(['Season'])['id'].count().reset_index().rename(columns={'id' : 'matches'})\n",
        "season_matches"
      ],
      "execution_count": null,
      "outputs": [
        {
          "output_type": "execute_result",
          "data": {
            "text/html": [
              "<div>\n",
              "<style scoped>\n",
              "    .dataframe tbody tr th:only-of-type {\n",
              "        vertical-align: middle;\n",
              "    }\n",
              "\n",
              "    .dataframe tbody tr th {\n",
              "        vertical-align: top;\n",
              "    }\n",
              "\n",
              "    .dataframe thead th {\n",
              "        text-align: right;\n",
              "    }\n",
              "</style>\n",
              "<table border=\"1\" class=\"dataframe\">\n",
              "  <thead>\n",
              "    <tr style=\"text-align: right;\">\n",
              "      <th></th>\n",
              "      <th>Season</th>\n",
              "      <th>matches</th>\n",
              "    </tr>\n",
              "  </thead>\n",
              "  <tbody>\n",
              "    <tr>\n",
              "      <th>0</th>\n",
              "      <td>IPL-2008</td>\n",
              "      <td>58</td>\n",
              "    </tr>\n",
              "    <tr>\n",
              "      <th>1</th>\n",
              "      <td>IPL-2009</td>\n",
              "      <td>57</td>\n",
              "    </tr>\n",
              "    <tr>\n",
              "      <th>2</th>\n",
              "      <td>IPL-2010</td>\n",
              "      <td>60</td>\n",
              "    </tr>\n",
              "    <tr>\n",
              "      <th>3</th>\n",
              "      <td>IPL-2011</td>\n",
              "      <td>73</td>\n",
              "    </tr>\n",
              "    <tr>\n",
              "      <th>4</th>\n",
              "      <td>IPL-2012</td>\n",
              "      <td>74</td>\n",
              "    </tr>\n",
              "    <tr>\n",
              "      <th>5</th>\n",
              "      <td>IPL-2013</td>\n",
              "      <td>76</td>\n",
              "    </tr>\n",
              "    <tr>\n",
              "      <th>6</th>\n",
              "      <td>IPL-2014</td>\n",
              "      <td>60</td>\n",
              "    </tr>\n",
              "    <tr>\n",
              "      <th>7</th>\n",
              "      <td>IPL-2015</td>\n",
              "      <td>59</td>\n",
              "    </tr>\n",
              "    <tr>\n",
              "      <th>8</th>\n",
              "      <td>IPL-2016</td>\n",
              "      <td>60</td>\n",
              "    </tr>\n",
              "    <tr>\n",
              "      <th>9</th>\n",
              "      <td>IPL-2017</td>\n",
              "      <td>59</td>\n",
              "    </tr>\n",
              "    <tr>\n",
              "      <th>10</th>\n",
              "      <td>IPL-2018</td>\n",
              "      <td>60</td>\n",
              "    </tr>\n",
              "    <tr>\n",
              "      <th>11</th>\n",
              "      <td>IPL-2019</td>\n",
              "      <td>60</td>\n",
              "    </tr>\n",
              "  </tbody>\n",
              "</table>\n",
              "</div>"
            ],
            "text/plain": [
              "      Season  matches\n",
              "0   IPL-2008       58\n",
              "1   IPL-2009       57\n",
              "2   IPL-2010       60\n",
              "3   IPL-2011       73\n",
              "4   IPL-2012       74\n",
              "5   IPL-2013       76\n",
              "6   IPL-2014       60\n",
              "7   IPL-2015       59\n",
              "8   IPL-2016       60\n",
              "9   IPL-2017       59\n",
              "10  IPL-2018       60\n",
              "11  IPL-2019       60"
            ]
          },
          "metadata": {
            "tags": []
          },
          "execution_count": 136
        }
      ]
    },
    {
      "cell_type": "markdown",
      "metadata": {
        "id": "UHsiDz7D4J_y"
      },
      "source": [
        "Team won with maximum runs"
      ]
    },
    {
      "cell_type": "code",
      "metadata": {
        "colab": {
          "base_uri": "https://localhost:8080/"
        },
        "id": "lPhHYPPJ4Jn6",
        "outputId": "fc9dee0f-df5a-4eb8-fbc9-fa69556dc76d"
      },
      "source": [
        "matches.iloc[matches['win_by_runs'].idxmax()]\n",
        "print(\"Team that won with maximum runs : \",matches.iloc[matches['win_by_runs'].idxmax()]['winner'])"
      ],
      "execution_count": null,
      "outputs": [
        {
          "output_type": "stream",
          "text": [
            "Team that won with maximum runs :  Mumbai Indians\n"
          ],
          "name": "stdout"
        }
      ]
    },
    {
      "cell_type": "markdown",
      "metadata": {
        "id": "sYg1C24C4Y1y"
      },
      "source": [
        "Team won with maximum wickets"
      ]
    },
    {
      "cell_type": "code",
      "metadata": {
        "colab": {
          "base_uri": "https://localhost:8080/"
        },
        "id": "uVmZ8WoJ4cq6",
        "outputId": "991223f8-8763-4b36-cccd-a5de047cac12"
      },
      "source": [
        "matches.iloc[matches['win_by_wickets'].idxmax()]\n",
        "print(\"Team that won with maximum wickets : \",matches.iloc[matches['win_by_wickets'].idxmax()]['winner'])"
      ],
      "execution_count": null,
      "outputs": [
        {
          "output_type": "stream",
          "text": [
            "Team that won with maximum wickets :  Kolkata Knight Riders\n"
          ],
          "name": "stdout"
        }
      ]
    },
    {
      "cell_type": "markdown",
      "metadata": {
        "id": "qpF7UNVZ8HzC"
      },
      "source": [
        "season with most number of matches"
      ]
    },
    {
      "cell_type": "code",
      "metadata": {
        "colab": {
          "base_uri": "https://localhost:8080/",
          "height": 268
        },
        "id": "bwwq6tmI-v9i",
        "outputId": "3b753bf2-dd94-4212-e336-cc4a85aea885"
      },
      "source": [
        "fig_dims = (20, 4)\n",
        "fig, ax = plt.subplots(figsize=fig_dims)\n",
        "sns.countplot(x='Season', ax=ax,data=matches)\n",
        "plt.show()"
      ],
      "execution_count": null,
      "outputs": [
        {
          "output_type": "display_data",
          "data": {
            "image/png": "[encoded data removed]",
            "text/plain": [
              "<Figure size 1440x288 with 1 Axes>"
            ]
          },
          "metadata": {
            "tags": [],
            "needs_background": "light"
          }
        }
      ]
    },
    {
      "cell_type": "markdown",
      "metadata": {
        "id": "vntWfGkN--zJ"
      },
      "source": [
        "Most SucessFull Team :"
      ]
    },
    {
      "cell_type": "code",
      "metadata": {
        "colab": {
          "base_uri": "https://localhost:8080/",
          "height": 296
        },
        "id": "8jxQJfQ1_E1R",
        "outputId": "b81ea87c-a3df-4228-8ab0-94341ad6dea6"
      },
      "source": [
        "data1 = matches.winner.value_counts()\n",
        "sns.barplot(y = data1.index, x = data1)"
      ],
      "execution_count": null,
      "outputs": [
        {
          "output_type": "execute_result",
          "data": {
            "text/plain": [
              "<matplotlib.axes._subplots.AxesSubplot at 0x7f2af3e64450>"
            ]
          },
          "metadata": {
            "tags": []
          },
          "execution_count": 140
        },
        {
          "output_type": "display_data",
          "data": {
            "image/png": "[encoded data removed]",
            "text/plain": [
              "<Figure size 432x288 with 1 Axes>"
            ]
          },
          "metadata": {
            "tags": [],
            "needs_background": "light"
          }
        }
      ]
    },
    {
      "cell_type": "markdown",
      "metadata": {
        "id": "1Pn919UQ_tSZ"
      },
      "source": [
        "Highest wins by teams per season"
      ]
    },
    {
      "cell_type": "code",
      "metadata": {
        "colab": {
          "base_uri": "https://localhost:8080/"
        },
        "id": "Ssc9b7qN_WAh",
        "outputId": "8b6a8a8b-acb7-40b9-e655-284fa84f66a1"
      },
      "source": [
        "matches.groupby('Season')['winner'].value_counts()"
      ],
      "execution_count": null,
      "outputs": [
        {
          "output_type": "execute_result",
          "data": {
            "text/plain": [
              "Season    winner                     \n",
              "IPL-2008  Rajasthan Royals               13\n",
              "          Kings XI Punjab                10\n",
              "          Chennai Super Kings             9\n",
              "          Delhi Daredevils                7\n",
              "          Mumbai Indians                  7\n",
              "                                         ..\n",
              "IPL-2019  Kings XI Punjab                 6\n",
              "          Kolkata Knight Riders           6\n",
              "          Sunrisers Hyderabad             6\n",
              "          Rajasthan Royals                5\n",
              "          Royal Challengers Bangalore     5\n",
              "Name: winner, Length: 100, dtype: int64"
            ]
          },
          "metadata": {
            "tags": []
          },
          "execution_count": 141
        }
      ]
    },
    {
      "cell_type": "markdown",
      "metadata": {
        "id": "UWVhJzyq_lDJ"
      },
      "source": [
        "Toss descison"
      ]
    },
    {
      "cell_type": "code",
      "metadata": {
        "colab": {
          "base_uri": "https://localhost:8080/"
        },
        "id": "TQU-C6Rk_nO0",
        "outputId": "38d32231-c53c-4cb7-bbb5-d1b0770405bd"
      },
      "source": [
        "matches['toss_decision'].value_counts()"
      ],
      "execution_count": null,
      "outputs": [
        {
          "output_type": "execute_result",
          "data": {
            "text/plain": [
              "field    463\n",
              "bat      293\n",
              "Name: toss_decision, dtype: int64"
            ]
          },
          "metadata": {
            "tags": []
          },
          "execution_count": 142
        }
      ]
    },
    {
      "cell_type": "code",
      "metadata": {
        "colab": {
          "base_uri": "https://localhost:8080/",
          "height": 318
        },
        "id": "qdEqP1l6C-cb",
        "outputId": "8e9d3ba7-475e-46e9-b742-7c6df9b3511a"
      },
      "source": [
        "ss = matches['toss_winner'] == matches['winner']\n",
        "ss.groupby(ss).size()\n",
        "sns.countplot(ss);"
      ],
      "execution_count": null,
      "outputs": [
        {
          "output_type": "stream",
          "text": [
            "/usr/local/lib/python3.7/dist-packages/seaborn/_decorators.py:43: FutureWarning: Pass the following variable as a keyword arg: x. From version 0.12, the only valid positional argument will be `data`, and passing other arguments without an explicit keyword will result in an error or misinterpretation.\n",
            "  FutureWarning\n"
          ],
          "name": "stderr"
        },
        {
          "output_type": "display_data",
          "data": {
            "image/png": "[encoded data removed]",
            "text/plain": [
              "<Figure size 432x288 with 1 Axes>"
            ]
          },
          "metadata": {
            "tags": [],
            "needs_background": "light"
          }
        }
      ]
    },
    {
      "cell_type": "markdown",
      "metadata": {
        "id": "NpAQN-xx_7vR"
      },
      "source": [
        "Cities where match played :"
      ]
    },
    {
      "cell_type": "code",
      "metadata": {
        "colab": {
          "base_uri": "https://localhost:8080/"
        },
        "id": "uzL24Bs4_8fB",
        "outputId": "5df4ce72-b5ac-489f-bdbe-fa42ab5f9941"
      },
      "source": [
        "cities = matches['city'].unique()\n",
        "print('Cities in which Matches were played: ',cities)"
      ],
      "execution_count": null,
      "outputs": [
        {
          "output_type": "stream",
          "text": [
            "Cities in which Matches were played:  ['Hyderabad' 'Pune' 'Rajkot' 'Indore' 'Bangalore' 'Mumbai' 'Kolkata'\n",
            " 'Delhi' 'Chandigarh' 'Kanpur' 'Jaipur' 'Chennai' 'Cape Town'\n",
            " 'Port Elizabeth' 'Durban' 'Centurion' 'East London' 'Johannesburg'\n",
            " 'Kimberley' 'Bloemfontein' 'Ahmedabad' 'Cuttack' 'Nagpur' 'Dharamsala'\n",
            " 'Kochi' 'Visakhapatnam' 'Raipur' 'Ranchi' 'Abu Dhabi' 'Sharjah' nan\n",
            " 'Mohali' 'Bengaluru']\n"
          ],
          "name": "stdout"
        }
      ]
    },
    {
      "cell_type": "markdown",
      "metadata": {
        "id": "nVPm17Tw7FD5"
      },
      "source": [
        "Total No of Matches played in each city:"
      ]
    },
    {
      "cell_type": "code",
      "metadata": {
        "colab": {
          "base_uri": "https://localhost:8080/"
        },
        "id": "ADarQJm-7AYi",
        "outputId": "e107ff8c-8cb7-45cb-f210-d278f9df5a94"
      },
      "source": [
        "matches_city_played = matches['city'].value_counts()\n",
        "print(matches_city_played)"
      ],
      "execution_count": null,
      "outputs": [
        {
          "output_type": "stream",
          "text": [
            "Mumbai            101\n",
            "Kolkata            77\n",
            "Delhi              74\n",
            "Bangalore          66\n",
            "Hyderabad          64\n",
            "Chennai            57\n",
            "Jaipur             47\n",
            "Chandigarh         46\n",
            "Pune               38\n",
            "Durban             15\n",
            "Bengaluru          14\n",
            "Visakhapatnam      13\n",
            "Ahmedabad          12\n",
            "Centurion          12\n",
            "Mohali             10\n",
            "Rajkot             10\n",
            "Indore              9\n",
            "Dharamsala          9\n",
            "Johannesburg        8\n",
            "Cuttack             7\n",
            "Port Elizabeth      7\n",
            "Ranchi              7\n",
            "Cape Town           7\n",
            "Abu Dhabi           7\n",
            "Raipur              6\n",
            "Sharjah             6\n",
            "Kochi               5\n",
            "Kanpur              4\n",
            "East London         3\n",
            "Nagpur              3\n",
            "Kimberley           3\n",
            "Bloemfontein        2\n",
            "Name: city, dtype: int64\n"
          ],
          "name": "stdout"
        }
      ]
    },
    {
      "cell_type": "code",
      "metadata": {
        "colab": {
          "base_uri": "https://localhost:8080/",
          "height": 530
        },
        "id": "cp0lpDM68iFp",
        "outputId": "780f1708-13a0-4efd-deb5-02ed75cd3ae7"
      },
      "source": [
        "plt.figure(figsize = (18, 6))\n",
        "sns.barplot(matches_city_played.index, matches_city_played,                                                                                                                                                                                                                                                                                                                                                                                                     )\n",
        "plt.xticks(rotation = 90, fontsize = 10)\n",
        "plt.yticks(fontsize = 10)\n",
        "plt.xlabel('City', fontsize = 12)\n",
        "plt.ylabel('No of Matches', fontsize = 12)\n",
        "plt.title('No of Matches played in each City', fontsize = 16)\n",
        "plt.show()"
      ],
      "execution_count": null,
      "outputs": [
        {
          "output_type": "stream",
          "text": [
            "/usr/local/lib/python3.7/dist-packages/seaborn/_decorators.py:43: FutureWarning: Pass the following variables as keyword args: x, y. From version 0.12, the only valid positional argument will be `data`, and passing other arguments without an explicit keyword will result in an error or misinterpretation.\n",
            "  FutureWarning\n"
          ],
          "name": "stderr"
        },
        {
          "output_type": "display_data",
          "data": {
            "image/png": "[encoded data removed]",
            "text/plain": [
              "<Figure size 1296x432 with 1 Axes>"
            ]
          },
          "metadata": {
            "tags": [],
            "needs_background": "light"
          }
        }
      ]
    },
    {
      "cell_type": "markdown",
      "metadata": {
        "id": "33E629dFBdYB"
      },
      "source": [
        "Stadiums were matches played :"
      ]
    },
    {
      "cell_type": "code",
      "metadata": {
        "colab": {
          "base_uri": "https://localhost:8080/"
        },
        "id": "gKrNNMfb-cyL",
        "outputId": "a62008f6-60a4-4508-b8a0-bf4a66f73a0d"
      },
      "source": [
        "stadiums = matches['venue'].unique()\n",
        "print('The Stadiums where the Matches were played: ',stadiums)\n"
      ],
      "execution_count": null,
      "outputs": [
        {
          "output_type": "stream",
          "text": [
            "The Stadiums where the Matches were played:  ['Rajiv Gandhi International Stadium, Uppal'\n",
            " 'Maharashtra Cricket Association Stadium'\n",
            " 'Saurashtra Cricket Association Stadium' 'Holkar Cricket Stadium'\n",
            " 'M Chinnaswamy Stadium' 'Wankhede Stadium' 'Eden Gardens'\n",
            " 'Feroz Shah Kotla' 'Punjab Cricket Association IS Bindra Stadium, Mohali'\n",
            " 'Green Park' 'Punjab Cricket Association Stadium, Mohali'\n",
            " 'Sawai Mansingh Stadium' 'MA Chidambaram Stadium, Chepauk'\n",
            " 'Dr DY Patil Sports Academy' 'Newlands' \"St George's Park\" 'Kingsmead'\n",
            " 'SuperSport Park' 'Buffalo Park' 'New Wanderers Stadium'\n",
            " 'De Beers Diamond Oval' 'OUTsurance Oval' 'Brabourne Stadium'\n",
            " 'Sardar Patel Stadium, Motera' 'Barabati Stadium'\n",
            " 'Vidarbha Cricket Association Stadium, Jamtha'\n",
            " 'Himachal Pradesh Cricket Association Stadium' 'Nehru Stadium'\n",
            " 'Dr. Y.S. Rajasekhara Reddy ACA-VDCA Cricket Stadium'\n",
            " 'Subrata Roy Sahara Stadium'\n",
            " 'Shaheed Veer Narayan Singh International Stadium'\n",
            " 'JSCA International Stadium Complex' 'Sheikh Zayed Stadium'\n",
            " 'Sharjah Cricket Stadium' 'Dubai International Cricket Stadium'\n",
            " 'M. A. Chidambaram Stadium' 'Feroz Shah Kotla Ground'\n",
            " 'M. Chinnaswamy Stadium' 'Rajiv Gandhi Intl. Cricket Stadium'\n",
            " 'IS Bindra Stadium' 'ACA-VDCA Stadium']\n"
          ],
          "name": "stdout"
        }
      ]
    },
    {
      "cell_type": "markdown",
      "metadata": {
        "id": "AgsMJcI9BngC"
      },
      "source": [
        "Total matches played in each stadium:"
      ]
    },
    {
      "cell_type": "code",
      "metadata": {
        "colab": {
          "base_uri": "https://localhost:8080/"
        },
        "id": "czteyxr5Brd6",
        "outputId": "ecd0a1fa-da4b-4ad4-f59a-6bd5b8563bd2"
      },
      "source": [
        "matches_played_stadiums = matches['venue'].value_counts()\n",
        "matches_played_stadiums"
      ],
      "execution_count": null,
      "outputs": [
        {
          "output_type": "execute_result",
          "data": {
            "text/plain": [
              "Eden Gardens                                            77\n",
              "M Chinnaswamy Stadium                                   73\n",
              "Wankhede Stadium                                        73\n",
              "Feroz Shah Kotla                                        67\n",
              "Rajiv Gandhi International Stadium, Uppal               56\n",
              "MA Chidambaram Stadium, Chepauk                         49\n",
              "Sawai Mansingh Stadium                                  47\n",
              "Punjab Cricket Association Stadium, Mohali              35\n",
              "Maharashtra Cricket Association Stadium                 21\n",
              "Dr DY Patil Sports Academy                              17\n",
              "Subrata Roy Sahara Stadium                              17\n",
              "Kingsmead                                               15\n",
              "Punjab Cricket Association IS Bindra Stadium, Mohali    14\n",
              "SuperSport Park                                         12\n",
              "Sardar Patel Stadium, Motera                            12\n",
              "Dr. Y.S. Rajasekhara Reddy ACA-VDCA Cricket Stadium     11\n",
              "Brabourne Stadium                                       11\n",
              "Saurashtra Cricket Association Stadium                  10\n",
              "Holkar Cricket Stadium                                   9\n",
              "Himachal Pradesh Cricket Association Stadium             9\n",
              "M. A. Chidambaram Stadium                                8\n",
              "Rajiv Gandhi Intl. Cricket Stadium                       8\n",
              "New Wanderers Stadium                                    8\n",
              "IS Bindra Stadium                                        7\n",
              "Feroz Shah Kotla Ground                                  7\n",
              "M. Chinnaswamy Stadium                                   7\n",
              "JSCA International Stadium Complex                       7\n",
              "Dubai International Cricket Stadium                      7\n",
              "Barabati Stadium                                         7\n",
              "Newlands                                                 7\n",
              "St George's Park                                         7\n",
              "Sheikh Zayed Stadium                                     7\n",
              "Sharjah Cricket Stadium                                  6\n",
              "Shaheed Veer Narayan Singh International Stadium         6\n",
              "Nehru Stadium                                            5\n",
              "Green Park                                               4\n",
              "Vidarbha Cricket Association Stadium, Jamtha             3\n",
              "Buffalo Park                                             3\n",
              "De Beers Diamond Oval                                    3\n",
              "OUTsurance Oval                                          2\n",
              "ACA-VDCA Stadium                                         2\n",
              "Name: venue, dtype: int64"
            ]
          },
          "metadata": {
            "tags": []
          },
          "execution_count": 148
        }
      ]
    },
    {
      "cell_type": "code",
      "metadata": {
        "colab": {
          "base_uri": "https://localhost:8080/",
          "height": 466
        },
        "id": "dHXj6apoB56i",
        "outputId": "45a967da-a8ba-4aad-807d-0d0d7673c34e"
      },
      "source": [
        "plt.figure(figsize = (18, 6))\n",
        "sns.barplot(matches_played_stadiums, matches_played_stadiums, palette = 'Dark2')\n",
        "plt.xticks(rotation = 90, fontsize = 10)\n",
        "plt.yticks(fontsize = 10)\n",
        "plt.xlabel('Stadium', fontsize = 12)\n",
        "plt.ylabel('No of Matches', fontsize = 12)\n",
        "plt.title('No of Matches played in each Stadium', fontsize = 16)\n",
        "plt.show()"
      ],
      "execution_count": null,
      "outputs": [
        {
          "output_type": "stream",
          "text": [
            "/usr/local/lib/python3.7/dist-packages/seaborn/_decorators.py:43: FutureWarning: Pass the following variables as keyword args: x, y. From version 0.12, the only valid positional argument will be `data`, and passing other arguments without an explicit keyword will result in an error or misinterpretation.\n",
            "  FutureWarning\n"
          ],
          "name": "stderr"
        },
        {
          "output_type": "display_data",
          "data": {
            "image/png": "[encoded data removed]",
            "text/plain": [
              "<Figure size 1296x432 with 1 Axes>"
            ]
          },
          "metadata": {
            "tags": [],
            "needs_background": "light"
          }
        }
      ]
    },
    {
      "cell_type": "markdown",
      "metadata": {
        "id": "eNG8C5fcCoAB"
      },
      "source": [
        "Top players (Match winners )"
      ]
    },
    {
      "cell_type": "code",
      "metadata": {
        "colab": {
          "base_uri": "https://localhost:8080/",
          "height": 281
        },
        "id": "6KgdkerdCt-j",
        "outputId": "2da026b8-722e-41b2-cf86-f2f3ab78beef"
      },
      "source": [
        "top_players = matches.player_of_match.value_counts()[:10]\n",
        "\n",
        "fig, ax = plt.subplots()\n",
        "ax.set_ylim([0,20])\n",
        "ax.set_ylabel(\"Count\")\n",
        "ax.set_title(\"Top player of the match Winners\")\n",
        "\n",
        "sns.barplot(x = top_players.index, y = top_players, orient='v');\n",
        "plt.show()"
      ],
      "execution_count": null,
      "outputs": [
        {
          "output_type": "display_data",
          "data": {
            "image/png": "[encoded data removed]",
            "text/plain": [
              "<Figure size 432x288 with 1 Axes>"
            ]
          },
          "metadata": {
            "tags": [],
            "needs_background": "light"
          }
        }
      ]
    },
    {
      "cell_type": "code",
      "metadata": {
        "colab": {
          "base_uri": "https://localhost:8080/"
        },
        "id": "BFusc-n8EL_S",
        "outputId": "9dc11945-495d-402b-ffe8-11d3ec21d620"
      },
      "source": [
        "teams_per_season = matches.groupby('Season')['winner'].value_counts()\n",
        "teams_per_season"
      ],
      "execution_count": null,
      "outputs": [
        {
          "output_type": "execute_result",
          "data": {
            "text/plain": [
              "Season    winner                     \n",
              "IPL-2008  Rajasthan Royals               13\n",
              "          Kings XI Punjab                10\n",
              "          Chennai Super Kings             9\n",
              "          Delhi Daredevils                7\n",
              "          Mumbai Indians                  7\n",
              "                                         ..\n",
              "IPL-2019  Kings XI Punjab                 6\n",
              "          Kolkata Knight Riders           6\n",
              "          Sunrisers Hyderabad             6\n",
              "          Rajasthan Royals                5\n",
              "          Royal Challengers Bangalore     5\n",
              "Name: winner, Length: 100, dtype: int64"
            ]
          },
          "metadata": {
            "tags": []
          },
          "execution_count": 151
        }
      ]
    },
    {
      "cell_type": "markdown",
      "metadata": {
        "id": "P9gM6LVwb3mk"
      },
      "source": [
        "Matches won by each team:"
      ]
    },
    {
      "cell_type": "code",
      "metadata": {
        "colab": {
          "base_uri": "https://localhost:8080/",
          "height": 1000
        },
        "id": "OfkA3qKKb8oO",
        "outputId": "fd161afe-2dd2-4e6e-ec93-5ac428f7fd3c"
      },
      "source": [
        "plt.figure(figsize = (15, 25))\n",
        "sns.countplot(y = 'winner', data = matches, hue = 'Season', palette = 'jet_r')\n",
        "plt.xticks(fontsize=10)\n",
        "plt.yticks(fontsize = 10)\n",
        "plt.xlabel('Total Matches Won', fontsize = 12)\n",
        "plt.ylabel('Teams', fontsize = 12)\n",
        "plt.title('Total Number of Matches Won by the Team across Seasons', fontsize = 16)\n",
        "plt.show()"
      ],
      "execution_count": null,
      "outputs": [
        {
          "output_type": "display_data",
          "data": {
            "image/png": "[encoded data removed]",
            "text/plain": [
              "<Figure size 1080x1800 with 1 Axes>"
            ]
          },
          "metadata": {
            "tags": [],
            "needs_background": "light"
          }
        }
      ]
    },
    {
      "cell_type": "markdown",
      "metadata": {
        "id": "vdbTq8nPdoYt"
      },
      "source": [
        "Total MOM won:"
      ]
    },
    {
      "cell_type": "code",
      "metadata": {
        "colab": {
          "base_uri": "https://localhost:8080/"
        },
        "id": "_5AVn5vAdr0Z",
        "outputId": "26f72e24-ccb4-47fa-aa3e-ae89d0e34bc7"
      },
      "source": [
        "mom_won = matches['player_of_match'].value_counts()\n",
        "mom_won.head(20)"
      ],
      "execution_count": null,
      "outputs": [
        {
          "output_type": "execute_result",
          "data": {
            "text/plain": [
              "CH Gayle          21\n",
              "AB de Villiers    20\n",
              "MS Dhoni          17\n",
              "RG Sharma         17\n",
              "DA Warner         17\n",
              "YK Pathan         16\n",
              "SR Watson         15\n",
              "SK Raina          14\n",
              "G Gambhir         13\n",
              "V Kohli           12\n",
              "MEK Hussey        12\n",
              "AM Rahane         12\n",
              "A Mishra          11\n",
              "V Sehwag          11\n",
              "DR Smith          11\n",
              "AD Russell        11\n",
              "JH Kallis         10\n",
              "KA Pollard        10\n",
              "AT Rayudu          9\n",
              "SP Narine          9\n",
              "Name: player_of_match, dtype: int64"
            ]
          },
          "metadata": {
            "tags": []
          },
          "execution_count": 153
        }
      ]
    },
    {
      "cell_type": "code",
      "metadata": {
        "colab": {
          "base_uri": "https://localhost:8080/",
          "height": 423
        },
        "id": "00OD7CONfqtp",
        "outputId": "9e3ac982-96d3-42ca-fa56-5a317395e82e"
      },
      "source": [
        "plt.figure(figsize = (18, 6))\n",
        "matches.player_of_match.value_counts()[:20].plot(kind='barh')\n",
        "plt.xlabel('Players')\n",
        "plt.ylabel(\"Count\")\n",
        "plt.title(\"Highest MOM Award Winners\",fontsize=15,fontweight=\"bold\")"
      ],
      "execution_count": null,
      "outputs": [
        {
          "output_type": "execute_result",
          "data": {
            "text/plain": [
              "Text(0.5, 1.0, 'Highest MOM Award Winners')"
            ]
          },
          "metadata": {
            "tags": []
          },
          "execution_count": 154
        },
        {
          "output_type": "display_data",
          "data": {
            "image/png": "[encoded data removed]",
            "text/plain": [
              "<Figure size 1296x432 with 1 Axes>"
            ]
          },
          "metadata": {
            "tags": [],
            "needs_background": "light"
          }
        }
      ]
    }
  ]
}